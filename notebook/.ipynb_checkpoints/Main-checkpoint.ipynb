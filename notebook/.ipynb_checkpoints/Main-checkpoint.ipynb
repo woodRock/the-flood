{
 "cells": [
  {
   "cell_type": "markdown",
   "id": "121cf0ff-b80f-45f9-9b01-6d650a410020",
   "metadata": {},
   "source": [
    "# The Flood\n",
    "## AIML Model to Predict Houses"
   ]
  },
  {
   "cell_type": "markdown",
   "id": "c5834f49-6561-4070-82f9-ffa84ff3d519",
   "metadata": {},
   "source": [
    "### Libraries\n",
    "\n",
    "Stock-standard libararies for any machine learning project in Python."
   ]
  },
  {
   "cell_type": "code",
   "execution_count": 33,
   "id": "2214c199-c10d-41a3-9005-de1c45acabac",
   "metadata": {},
   "outputs": [],
   "source": [
    "import tensorflow as tf\n",
    "import numpy as np\n",
    "import seaborn as sns\n",
    "import pandas as pd\n",
    "import keras\n",
    "import imageai"
   ]
  },
  {
   "cell_type": "code",
   "execution_count": 34,
   "id": "49c98da0-1767-4984-82b1-b67ac603c78e",
   "metadata": {},
   "outputs": [],
   "source": [
    "from imageai.Detection import ObjectDetection\n",
    "detector = ObjectDetection()"
   ]
  },
  {
   "cell_type": "code",
   "execution_count": 35,
   "id": "93e764e1-151f-4413-8014-f7cecf6810ef",
   "metadata": {},
   "outputs": [],
   "source": [
    "model_path = \"./models/Model.h5\"\n",
    "input_path = \"./input/Satellite.png\"\n",
    "# input_path = \"./input/Traffic.jpeg\"\n",
    "output_path = \"./output/Test.png\"\n",
    "# output_path = \"./output/Test.jpeg\""
   ]
  },
  {
   "cell_type": "code",
   "execution_count": 36,
   "id": "ef865932-000a-426d-97cf-d81a4bb51f57",
   "metadata": {},
   "outputs": [
    {
     "name": "stdout",
     "output_type": "stream",
     "text": [
      "truck  :  86.49030327796936\n",
      "car  :  82.42077231407166\n",
      "car  :  84.40029621124268\n",
      "car  :  86.5477979183197\n",
      "car  :  61.39656901359558\n",
      "car  :  56.649792194366455\n",
      "car  :  58.28326940536499\n",
      "car  :  54.157859086990356\n",
      "car  :  85.14369130134583\n",
      "car  :  56.78020715713501\n",
      "car  :  56.541907787323\n",
      "car  :  55.105507373809814\n",
      "car  :  88.57946395874023\n",
      "car  :  89.27004337310791\n",
      "car  :  95.71688771247864\n",
      "car  :  97.63043522834778\n",
      "car  :  83.16718339920044\n",
      "car  :  83.50878357887268\n",
      "car  :  98.4172523021698\n",
      "car  :  66.24868512153625\n",
      "car  :  85.58733463287354\n",
      "car  :  65.03819823265076\n",
      "car  :  75.75364708900452\n",
      "car  :  83.75300168991089\n"
     ]
    }
   ],
   "source": [
    "detector.setModelTypeAsTinyYOLOv3()\n",
    "detector.setModelPath(model_path)\n",
    "detector.loadModel()\n",
    "detection = detector.detectObjectsFromImage(input_image=input_path, output_image_path=output_path)\n",
    "\n",
    "for eachItem in detection:\n",
    "    print(eachItem[\"name\"] , \" : \", eachItem[\"percentage_probability\"])"
   ]
  }
 ],
 "metadata": {
  "kernelspec": {
   "display_name": "Python 3",
   "language": "python",
   "name": "python3"
  },
  "language_info": {
   "codemirror_mode": {
    "name": "ipython",
    "version": 3
   },
   "file_extension": ".py",
   "mimetype": "text/x-python",
   "name": "python",
   "nbconvert_exporter": "python",
   "pygments_lexer": "ipython3",
   "version": "3.9.2"
  }
 },
 "nbformat": 4,
 "nbformat_minor": 5
}
